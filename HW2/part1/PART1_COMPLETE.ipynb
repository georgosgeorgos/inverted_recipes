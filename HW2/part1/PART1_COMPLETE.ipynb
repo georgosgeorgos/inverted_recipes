{
 "cells": [
  {
   "cell_type": "code",
   "execution_count": null,
   "metadata": {
    "collapsed": true
   },
   "outputs": [],
   "source": [
    "# script part1"
   ]
  },
  {
   "cell_type": "code",
   "execution_count": null,
   "metadata": {
    "collapsed": true
   },
   "outputs": [],
   "source": [
    "from lib1 import *"
   ]
  },
  {
   "cell_type": "code",
   "execution_count": null,
   "metadata": {
    "collapsed": true
   },
   "outputs": [],
   "source": [
    "import requests\n",
    "import re\n",
    "import time\n",
    "from bs4 import BeautifulSoup\n",
    "import string\n",
    "import json\n",
    "import nltk"
   ]
  },
  {
   "cell_type": "code",
   "execution_count": null,
   "metadata": {
    "collapsed": true
   },
   "outputs": [],
   "source": [
    "# create a dictionary where we store as key letters of alphabet and value \n",
    "# the whole set of ingredients starting with this letter\n",
    "\n",
    "foodsDict = {i:[] for i in string.ascii_lowercase}"
   ]
  },
  {
   "cell_type": "code",
   "execution_count": null,
   "metadata": {
    "collapsed": false
   },
   "outputs": [],
   "source": [
    "# create a dictionary where\n",
    "\n",
    "# keys ----> lower alphabet letters\n",
    "# values ----> foods starting with this letter\n",
    "\n",
    "#start = time.time()\n",
    "\n",
    "for key in string.ascii_lowercase:\n",
    "    \n",
    "    foodsDict[key] = foodsLetter(\"ingredients\",key)"
   ]
  },
  {
   "cell_type": "code",
   "execution_count": null,
   "metadata": {
    "collapsed": true
   },
   "outputs": [],
   "source": [
    "with open('foodsDict.json', 'r') as fp:\n",
    "    \n",
    "    foodsDict = json.load(fp)"
   ]
  },
  {
   "cell_type": "code",
   "execution_count": null,
   "metadata": {
    "collapsed": true
   },
   "outputs": [],
   "source": [
    "recipes = set()"
   ]
  },
  {
   "cell_type": "code",
   "execution_count": null,
   "metadata": {
    "collapsed": false
   },
   "outputs": [],
   "source": [
    "# input: v vector of foods, set recipes, page where we start\n",
    "# output: a set of recipes \n",
    "\n",
    "for alphabet in foodsDict:\n",
    "    \n",
    "        vector = foodsDict[alphabet]\n",
    "        recipesLink(\"keyword\", vector, recipes, 2)"
   ]
  },
  {
   "cell_type": "code",
   "execution_count": null,
   "metadata": {
    "collapsed": true
   },
   "outputs": [],
   "source": [
    "recipesDict = {k:v for k,v in enumerate(recipes)}"
   ]
  },
  {
   "cell_type": "code",
   "execution_count": null,
   "metadata": {
    "collapsed": false
   },
   "outputs": [],
   "source": [
    "with open('dictRecipes.json', 'r') as fp:\n",
    "    \n",
    "    recipesDict = json.load(fp)"
   ]
  },
  {
   "cell_type": "code",
   "execution_count": null,
   "metadata": {
    "collapsed": true
   },
   "outputs": [],
   "source": [
    "# now download the HTML for all recipes available\n",
    "\n",
    "dHTML = {}"
   ]
  },
  {
   "cell_type": "code",
   "execution_count": null,
   "metadata": {
    "collapsed": false
   },
   "outputs": [],
   "source": [
    "for key in recipesDict:\n",
    "    \n",
    "    url = \"http://www.bbc.co.uk/food/recipes/\"+ recipesDict[str(key)]\n",
    "    soup = CheckRequest(url)\n",
    "    print(key)\n",
    "    dHTML[key] = soup\n",
    "    "
   ]
  },
  {
   "cell_type": "code",
   "execution_count": null,
   "metadata": {
    "collapsed": true
   },
   "outputs": [],
   "source": [
    "# alternative\n",
    "\n",
    "for i in range(len(recipesDict)):\n",
    "    \n",
    "    url = \"http://www.bbc.co.uk/food/recipes/\"+ recipesDict[str(i)]\n",
    "    soup = CheckRequest(url)\n",
    "    print(i)\n",
    "    dHTML[i] = soup"
   ]
  },
  {
   "cell_type": "code",
   "execution_count": null,
   "metadata": {
    "collapsed": true
   },
   "outputs": [],
   "source": [
    "with open('dictHTML.json', 'r') as fp:\n",
    "    \n",
    "    dHTML = json.load(fp)        # DON'T PRINT THIS!!!!!"
   ]
  },
  {
   "cell_type": "code",
   "execution_count": null,
   "metadata": {
    "collapsed": true
   },
   "outputs": [],
   "source": [
    "# end first part"
   ]
  },
  {
   "cell_type": "code",
   "execution_count": null,
   "metadata": {
    "collapsed": true
   },
   "outputs": [],
   "source": []
  },
  {
   "cell_type": "code",
   "execution_count": null,
   "metadata": {
    "collapsed": true
   },
   "outputs": [],
   "source": []
  },
  {
   "cell_type": "code",
   "execution_count": null,
   "metadata": {
    "collapsed": true
   },
   "outputs": [],
   "source": []
  },
  {
   "cell_type": "code",
   "execution_count": null,
   "metadata": {
    "collapsed": true
   },
   "outputs": [],
   "source": []
  },
  {
   "cell_type": "code",
   "execution_count": null,
   "metadata": {
    "collapsed": false
   },
   "outputs": [],
   "source": [
    "import re\n",
    "\n",
    "for key in dfinal:\n",
    "    \n",
    "    \n",
    "        soup = BeautifulSoup(dfinal[key], \"lxml\")\n",
    "        soup = soup.title.contents[0]\n",
    "\n",
    "        if not re.search('BBC Food - Recipes - ', soup ):\n",
    "\n",
    "            print(key)"
   ]
  },
  {
   "cell_type": "code",
   "execution_count": null,
   "metadata": {
    "collapsed": true
   },
   "outputs": [],
   "source": [
    "for key in dfinal:\n",
    "    \n",
    "    if dfinal[key] == \"\":\n",
    "        \n",
    "         print(key)"
   ]
  },
  {
   "cell_type": "code",
   "execution_count": null,
   "metadata": {
    "collapsed": false
   },
   "outputs": [],
   "source": [
    "for key in l:\n",
    "    \n",
    "    url = \"http://www.bbc.co.uk/food/recipes/\"+ tot[str(key)]\n",
    "    cnt = requests.get(url)\n",
    "    soup = BeautifulSoup(cnt.text, \"lxml\")\n",
    "    dfinal[str(key)] = str(soup)\n",
    "    \n",
    "    print(key)"
   ]
  },
  {
   "cell_type": "code",
   "execution_count": null,
   "metadata": {
    "collapsed": false
   },
   "outputs": [],
   "source": [
    "for i in l:\n",
    "    url = \"http://www.bbc.co.uk/food/recipes/\"+ recipesDict[str(i)]\n",
    "    cnt = requests.get(url)\n",
    "    soup = BeautifulSoup(cnt.text, \"lxml\")\n",
    "\n",
    "    print(soup.title)"
   ]
  },
  {
   "cell_type": "code",
   "execution_count": null,
   "metadata": {
    "collapsed": true
   },
   "outputs": [],
   "source": []
  },
  {
   "cell_type": "code",
   "execution_count": null,
   "metadata": {
    "collapsed": false
   },
   "outputs": [],
   "source": [
    "len(dfinal)"
   ]
  },
  {
   "cell_type": "code",
   "execution_count": null,
   "metadata": {
    "collapsed": false
   },
   "outputs": [],
   "source": [
    "recipesDict[\"11224\"]"
   ]
  },
  {
   "cell_type": "code",
   "execution_count": null,
   "metadata": {
    "collapsed": false
   },
   "outputs": [],
   "source": [
    "new[\"italianstyletrifle_84802\"]"
   ]
  }
 ],
 "metadata": {
  "kernelspec": {
   "display_name": "Python [Root]",
   "language": "python",
   "name": "Python [Root]"
  },
  "language_info": {
   "codemirror_mode": {
    "name": "ipython",
    "version": 3
   },
   "file_extension": ".py",
   "mimetype": "text/x-python",
   "name": "python",
   "nbconvert_exporter": "python",
   "pygments_lexer": "ipython3",
   "version": "3.5.2"
  }
 },
 "nbformat": 4,
 "nbformat_minor": 0
}
